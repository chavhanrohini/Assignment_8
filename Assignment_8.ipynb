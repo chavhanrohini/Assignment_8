{
 "cells": [
  {
   "cell_type": "markdown",
   "id": "a0d28410",
   "metadata": {},
   "source": [
    "## 1. Is the Python Standard Library included with PyInputPlus?\n",
    "   \n",
    "Answer: No, PyInputPlus does not include the Python Standard Library by default. PyInputPlus is a separate library used for input validation and handling, and it does not contain or rely on the Python Standard Library for its core functionality.\n"
   ]
  },
  {
   "cell_type": "markdown",
   "id": "eddd592b",
   "metadata": {},
   "source": [
    "## 2. Why is PyInputPlus commonly imported with `import pyinputplus as pypi`?\n",
    "   Answer: PyInputPlus is often imported with the alias `pypi` (or any other chosen alias) to make its usage more concise. This allows developers to use shorter and more readable code when working with PyInputPlus functions, such as `pypi.inputInt()` instead of `pyinputplus.inputInt()`, which can improve code readability.\n"
   ]
  },
  {
   "cell_type": "markdown",
   "id": "a48275f4",
   "metadata": {},
   "source": [
    "# 3. How do you distinguish between `inputInt()` and `inputFloat()`?\n",
    "   Answer: `inputInt()` is used to prompt the user for integer input, while `inputFloat()` is used to prompt the user for floating-point (decimal) input. `inputInt()` ensures that the user enters a whole number, while `inputFloat()` allows decimal values.\n"
   ]
  },
  {
   "cell_type": "code",
   "execution_count": null,
   "id": "695dc86d",
   "metadata": {},
   "outputs": [],
   "source": [
    "#4. Using PyInputPlus, how do you ensure that the user enters a whole number between 0 and 99?\n",
    "   \n",
    "# Answer: To ensure that the user enters a whole number between 0 and 99 using PyInputPlus,\n",
    "#you can use the `inputInt()` function with the `min` and `max` parameters set as follows:\n",
    "\n",
    "\n",
    "import pyinputplus as pyip\n",
    "\n",
    "try:\n",
    "    user_input = pyip.inputInt(prompt=\"Enter a whole number between 0 and 99: \", min=0, max=99)\n",
    "    print(\"You entered:\", user_input)\n",
    "except pyip.RetryLimitException as e:\n",
    "    print(\"Exceeded maximum number of retries.\")\n",
    "except pyip.ValidationException as e:\n",
    "    print(e)\n"
   ]
  },
  {
   "cell_type": "markdown",
   "id": "7f97fe11",
   "metadata": {},
   "source": [
    "## 5. What is transferred to the keyword arguments `allowRegexes` and `blockRegexes`?\n",
    "   \n",
    "   \n",
    "   Answer: The keyword arguments `allowRegexes` and `blockRegexes` in PyInputPlus allow you to specify regular expressions as patterns to either allow or block certain input values. \n",
    "•`allowRegexes`: This argument accepts a list of regular expressions. If any of the regular expressions in the list match the user's input, it is considered valid.\n",
    "•`blockRegexes`: This argument accepts a list of regular expressions. If any of the regular expressions in the list match the user's input, it is considered invalid.\n"
   ]
  },
  {
   "cell_type": "markdown",
   "id": "bbcbba2a",
   "metadata": {},
   "source": [
    "## 6. If a blank input is entered three times, what does `inputStr(limit=3)` do?\n",
    "   Answer: If a blank input is entered three times when using `inputStr(limit=3)`, PyInputPlus will raise a `pyinputplus.RetryLimitException`. This exception is raised when the user exceeds the specified limit of retries for entering valid input.\n"
   ]
  },
  {
   "cell_type": "markdown",
   "id": "0552affa",
   "metadata": {},
   "source": [
    "## 7. If blank input is entered three times, what does `inputStr(limit=3, default='hello')` do?\n",
    "   Answer: If blank input is entered three times when using `inputStr(limit=3, default='hello')`, PyInputPlus will return the default value `'hello'` without raising an exception. The `default` parameter allows you to provide a fallback value to use when the user exceeds the specified limit of retries for entering valid input. In this case, since the limit is reached, the function returns the default value instead of raising a `RetryLimitException`.\n"
   ]
  },
  {
   "cell_type": "code",
   "execution_count": null,
   "id": "bc61629d",
   "metadata": {},
   "outputs": [],
   "source": []
  },
  {
   "cell_type": "code",
   "execution_count": null,
   "id": "1a07ca2a",
   "metadata": {},
   "outputs": [],
   "source": []
  },
  {
   "cell_type": "code",
   "execution_count": null,
   "id": "e5e9050f",
   "metadata": {},
   "outputs": [],
   "source": []
  },
  {
   "cell_type": "code",
   "execution_count": null,
   "id": "e9fa8489",
   "metadata": {},
   "outputs": [],
   "source": []
  }
 ],
 "metadata": {
  "kernelspec": {
   "display_name": "Python 3 (ipykernel)",
   "language": "python",
   "name": "python3"
  },
  "language_info": {
   "codemirror_mode": {
    "name": "ipython",
    "version": 3
   },
   "file_extension": ".py",
   "mimetype": "text/x-python",
   "name": "python",
   "nbconvert_exporter": "python",
   "pygments_lexer": "ipython3",
   "version": "3.9.12"
  }
 },
 "nbformat": 4,
 "nbformat_minor": 5
}
